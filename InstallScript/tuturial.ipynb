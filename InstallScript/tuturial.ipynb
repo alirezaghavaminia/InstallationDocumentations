{
 "metadata": {
  "language_info": {
   "codemirror_mode": {
    "name": "ipython",
    "version": 3
   },
   "file_extension": ".py",
   "mimetype": "text/x-python",
   "name": "python",
   "nbconvert_exporter": "python",
   "pygments_lexer": "ipython3",
   "version": 3
  },
  "orig_nbformat": 2,
  "kernelspec": {
   "name": "python_defaultSpec_1597044705675",
   "display_name": "Python 3.7.3 64-bit ('3': virtualenv)"
  }
 },
 "nbformat": 4,
 "nbformat_minor": 2,
 "cells": [
  {
   "cell_type": "markdown",
   "metadata": {},
   "source": [
    "tuturial from  https://stackabuse.com/executing-shell-commands-with-python/"
   ]
  },
  {
   "cell_type": "markdown",
   "metadata": {},
   "source": [
    "## Using os.system to Run a Command"
   ]
  },
  {
   "cell_type": "code",
   "execution_count": 1,
   "metadata": {},
   "outputs": [
    {
     "output_type": "execute_result",
     "data": {
      "text/plain": "0"
     },
     "metadata": {},
     "execution_count": 1
    }
   ],
   "source": [
    "import os\n",
    "os.system(\"echo Hello\")"
   ]
  },
  {
   "cell_type": "markdown",
   "metadata": {},
   "source": [
    "## Running a Command with subprocess"
   ]
  },
  {
   "cell_type": "markdown",
   "metadata": {},
   "source": [
    "The above will execute the the command and return the exit code. It will show the result if performed in `python script.py` methon. To store the results in a variable and use it in the program use the following method"
   ]
  },
  {
   "cell_type": "code",
   "execution_count": 2,
   "metadata": {
    "tags": []
   },
   "outputs": [
    {
     "output_type": "stream",
     "name": "stdout",
     "text": "The exit code was: 0\n"
    }
   ],
   "source": [
    "import subprocess\n",
    "\n",
    "list_files = subprocess.run([\"ls\", \"-l\"])\n",
    "print(\"The exit code was: %d\" % list_files.returncode)"
   ]
  },
  {
   "cell_type": "code",
   "execution_count": 3,
   "metadata": {},
   "outputs": [
    {
     "output_type": "execute_result",
     "data": {
      "text/plain": "'total 15\\ndrwxrwxr-x 1 ghavami ghavami 4096 Aug 10 12:01 .\\ndrwxrwxr-x 1 ghavami ghavami 4096 Aug  9 16:40 ..\\n-rw-rw-r-- 1 ghavami ghavami  231 Jul 26 10:52 checkOS.py\\n-rw-rw-r-- 1 ghavami ghavami   13 Aug  9 18:26 Install_by_RPM.sh\\n-rw-rw-r-- 1 ghavami ghavami  835 Aug  9 18:58 OSDetection.ipynb\\n-rw-rw-r-- 1 ghavami ghavami 4764 Aug 10 12:01 tuturial.ipynb\\n'"
     },
     "metadata": {},
     "execution_count": 3
    }
   ],
   "source": [
    "os.popen('ls -al').read()\n"
   ]
  },
  {
   "cell_type": "code",
   "execution_count": 9,
   "metadata": {},
   "outputs": [],
   "source": [
    "list_files = subprocess.run([\"ls\", \"-l\"], stdout=subprocess.DEVNULL)"
   ]
  },
  {
   "cell_type": "markdown",
   "metadata": {},
   "source": [
    "The standard output of the command now pipes to the special /dev/null device, which means the output would not appear on our consoles. Execute the file in your shell to see the following output:\n",
    "```\n",
    "$ python3 list_subprocess.py\n",
    "The exit code was: 0\n",
    "```\n"
   ]
  },
  {
   "cell_type": "code",
   "execution_count": 10,
   "metadata": {
    "tags": []
   },
   "outputs": [
    {
     "output_type": "stream",
     "name": "stdout",
     "text": "program output: b''\n"
    }
   ],
   "source": [
    "import subprocess\n",
    "\n",
    "proc = subprocess.Popen([\"cat\", \"/etc/services\"], stdout=subprocess.PIPE, shell=True)\n",
    "(out, err) = proc.communicate()\n",
    "print(\"program output:\", out)"
   ]
  },
  {
   "cell_type": "code",
   "execution_count": 11,
   "metadata": {
    "tags": []
   },
   "outputs": [
    {
     "output_type": "stream",
     "name": "stdout",
     "text": "b'total 16\\ndrwxrwxr-x 1 ghavami ghavami 4096 Aug 10 12:09 .\\ndrwxrwxr-x 1 ghavami ghavami 4096 Aug  9 16:40 ..\\n-rw-rw-r-- 1 ghavami ghavami  231 Jul 26 10:52 checkOS.py\\n-rw-rw-r-- 1 ghavami ghavami   13 Aug  9 18:26 Install_by_RPM.sh\\n-rw-rw-r-- 1 ghavami ghavami  835 Aug  9 18:58 OSDetection.ipynb\\n-rw-rw-r-- 1 ghavami ghavami 5215 Aug 10 12:09 tuturial.ipynb\\n'\n"
    }
   ],
   "source": [
    "from subprocess import PIPE, Popen\n",
    "\n",
    "\n",
    "def cmdline(command):\n",
    "    process = Popen(\n",
    "        args=command,\n",
    "        stdout=PIPE,\n",
    "        shell=True\n",
    "    )\n",
    "    return process.communicate()[0]\n",
    "\n",
    "# print( cmdline(\"cat /etc/services\"))\n",
    "print( cmdline('ls -al'))\n",
    "#print( cmdline('rpm -qa | grep \"php\"'))\n",
    "#print( cmdline('nslookup google.com'))"
   ]
  },
  {
   "cell_type": "markdown",
   "metadata": {},
   "source": [
    "What if we wanted to provide input to a command? The subprocess.run() facilitates this by its input argument. Create a new file called cat_subprocess.py, typing the following:"
   ]
  },
  {
   "cell_type": "code",
   "execution_count": 12,
   "metadata": {
    "tags": []
   },
   "outputs": [
    {
     "output_type": "stream",
     "name": "stdout",
     "text": "Hello from the other side\n"
    }
   ],
   "source": [
    "import subprocess\n",
    "\n",
    "useless_cat_call = subprocess.run([\"cat\"], stdout=subprocess.PIPE, text=True, input=\"Hello from the other side\")\n",
    "print(useless_cat_call.stdout)  # Hello from the other side"
   ]
  },
  {
   "cell_type": "markdown",
   "metadata": {},
   "source": [
    "We use subprocess.run() with quite a few commands, let's go through them:\n",
    "\n",
    "stdout=subprocess.PIPE tells Python to redirect the output of the command to an object so it can be manually read later\n",
    "text=True returns stdout and stderr as strings. The default return type is bytes.\n",
    "input=\"Hello from the other side\" tells Python to add the string as input to the cat command."
   ]
  },
  {
   "cell_type": "markdown",
   "metadata": {},
   "source": [
    "Which one should I use?\n",
    "If you need to run one or a few simple commands and do not mind if their output goes to the console, you can use the os.system() command. If you want to manage the input and output of a shell command, use subprocess.run(). If you want to run a command and continue doing other work while it's being executed, use subprocess.Popen.\n",
    "\n",
    "Here is a table with some usability differences that you can also use to inform your decision:\n",
    "\n",
    "|                           \t| os.system    \t| subprocess.run \t| subprocess.Popen \t|\n",
    "|---------------------------\t|--------------\t|----------------\t|------------------\t|\n",
    "| Requires parsed arguments \t| No           \t| Yes            \t| Yes              \t|\n",
    "| Waits for the command     \t| Yes          \t| Yes            \t| No               \t|\n",
    "| Communicates with stdin   \t| No           \t| Yes            \t| Yes              \t|\n",
    "| Returns                   \t| return value \t| object         \t| object           \t|"
   ]
  },
  {
   "cell_type": "markdown",
   "metadata": {},
   "source": [
    "## Running a Command with Popen"
   ]
  },
  {
   "cell_type": "code",
   "execution_count": 13,
   "metadata": {
    "tags": []
   },
   "outputs": [
    {
     "output_type": "stream",
     "name": "stdout",
     "text": "Hello from the other side!\n\n"
    }
   ],
   "source": [
    "import subprocess\n",
    "\n",
    "useless_cat_call = subprocess.Popen([\"cat\"], stdin=subprocess.PIPE, stdout=subprocess.PIPE, stderr=subprocess.PIPE, text=True)\n",
    "output, errors = useless_cat_call.communicate(input=\"Hello from the other side!\")\n",
    "useless_cat_call.wait()\n",
    "print(output)\n",
    "print(errors)"
   ]
  },
  {
   "cell_type": "code",
   "execution_count": null,
   "metadata": {},
   "outputs": [],
   "source": []
  }
 ]
}